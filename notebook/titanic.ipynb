{
 "cells": [
  {
   "cell_type": "code",
   "execution_count": 1,
   "metadata": {},
   "outputs": [],
   "source": [
    "import numpy as np\n",
    "import pandas as pd"
   ]
  },
  {
   "cell_type": "code",
   "execution_count": 2,
   "metadata": {},
   "outputs": [],
   "source": [
    "train = pd.read_csv(\"../input/titanic/train.csv\")\n",
    "test = pd.read_csv(\"../input/titanic/test.csv\")\n",
    "gender_submission = pd.read_csv(\"../input/titanic/gender_submission.csv\")"
   ]
  },
  {
   "cell_type": "code",
   "execution_count": 3,
   "metadata": {
    "scrolled": true
   },
   "outputs": [
    {
     "data": {
      "text/html": [
       "<div>\n",
       "<style scoped>\n",
       "    .dataframe tbody tr th:only-of-type {\n",
       "        vertical-align: middle;\n",
       "    }\n",
       "\n",
       "    .dataframe tbody tr th {\n",
       "        vertical-align: top;\n",
       "    }\n",
       "\n",
       "    .dataframe thead th {\n",
       "        text-align: right;\n",
       "    }\n",
       "</style>\n",
       "<table border=\"1\" class=\"dataframe\">\n",
       "  <thead>\n",
       "    <tr style=\"text-align: right;\">\n",
       "      <th></th>\n",
       "      <th>PassengerId</th>\n",
       "      <th>Survived</th>\n",
       "      <th>Pclass</th>\n",
       "      <th>Name</th>\n",
       "      <th>Sex</th>\n",
       "      <th>Age</th>\n",
       "      <th>SibSp</th>\n",
       "      <th>Parch</th>\n",
       "      <th>Ticket</th>\n",
       "      <th>Fare</th>\n",
       "      <th>Cabin</th>\n",
       "      <th>Embarked</th>\n",
       "    </tr>\n",
       "  </thead>\n",
       "  <tbody>\n",
       "    <tr>\n",
       "      <th>0</th>\n",
       "      <td>1</td>\n",
       "      <td>0</td>\n",
       "      <td>3</td>\n",
       "      <td>Braund, Mr. Owen Harris</td>\n",
       "      <td>male</td>\n",
       "      <td>22.0</td>\n",
       "      <td>1</td>\n",
       "      <td>0</td>\n",
       "      <td>A/5 21171</td>\n",
       "      <td>7.2500</td>\n",
       "      <td>NaN</td>\n",
       "      <td>S</td>\n",
       "    </tr>\n",
       "    <tr>\n",
       "      <th>1</th>\n",
       "      <td>2</td>\n",
       "      <td>1</td>\n",
       "      <td>1</td>\n",
       "      <td>Cumings, Mrs. John Bradley (Florence Briggs Th...</td>\n",
       "      <td>female</td>\n",
       "      <td>38.0</td>\n",
       "      <td>1</td>\n",
       "      <td>0</td>\n",
       "      <td>PC 17599</td>\n",
       "      <td>71.2833</td>\n",
       "      <td>C85</td>\n",
       "      <td>C</td>\n",
       "    </tr>\n",
       "    <tr>\n",
       "      <th>2</th>\n",
       "      <td>3</td>\n",
       "      <td>1</td>\n",
       "      <td>3</td>\n",
       "      <td>Heikkinen, Miss. Laina</td>\n",
       "      <td>female</td>\n",
       "      <td>26.0</td>\n",
       "      <td>0</td>\n",
       "      <td>0</td>\n",
       "      <td>STON/O2. 3101282</td>\n",
       "      <td>7.9250</td>\n",
       "      <td>NaN</td>\n",
       "      <td>S</td>\n",
       "    </tr>\n",
       "    <tr>\n",
       "      <th>3</th>\n",
       "      <td>4</td>\n",
       "      <td>1</td>\n",
       "      <td>1</td>\n",
       "      <td>Futrelle, Mrs. Jacques Heath (Lily May Peel)</td>\n",
       "      <td>female</td>\n",
       "      <td>35.0</td>\n",
       "      <td>1</td>\n",
       "      <td>0</td>\n",
       "      <td>113803</td>\n",
       "      <td>53.1000</td>\n",
       "      <td>C123</td>\n",
       "      <td>S</td>\n",
       "    </tr>\n",
       "    <tr>\n",
       "      <th>4</th>\n",
       "      <td>5</td>\n",
       "      <td>0</td>\n",
       "      <td>3</td>\n",
       "      <td>Allen, Mr. William Henry</td>\n",
       "      <td>male</td>\n",
       "      <td>35.0</td>\n",
       "      <td>0</td>\n",
       "      <td>0</td>\n",
       "      <td>373450</td>\n",
       "      <td>8.0500</td>\n",
       "      <td>NaN</td>\n",
       "      <td>S</td>\n",
       "    </tr>\n",
       "  </tbody>\n",
       "</table>\n",
       "</div>"
      ],
      "text/plain": [
       "   PassengerId  Survived  Pclass  \\\n",
       "0            1         0       3   \n",
       "1            2         1       1   \n",
       "2            3         1       3   \n",
       "3            4         1       1   \n",
       "4            5         0       3   \n",
       "\n",
       "                                                Name     Sex   Age  SibSp  \\\n",
       "0                            Braund, Mr. Owen Harris    male  22.0      1   \n",
       "1  Cumings, Mrs. John Bradley (Florence Briggs Th...  female  38.0      1   \n",
       "2                             Heikkinen, Miss. Laina  female  26.0      0   \n",
       "3       Futrelle, Mrs. Jacques Heath (Lily May Peel)  female  35.0      1   \n",
       "4                           Allen, Mr. William Henry    male  35.0      0   \n",
       "\n",
       "   Parch            Ticket     Fare Cabin Embarked  \n",
       "0      0         A/5 21171   7.2500   NaN        S  \n",
       "1      0          PC 17599  71.2833   C85        C  \n",
       "2      0  STON/O2. 3101282   7.9250   NaN        S  \n",
       "3      0            113803  53.1000  C123        S  \n",
       "4      0            373450   8.0500   NaN        S  "
      ]
     },
     "execution_count": 3,
     "metadata": {},
     "output_type": "execute_result"
    }
   ],
   "source": [
    "train.head()"
   ]
  },
  {
   "cell_type": "code",
   "execution_count": 4,
   "metadata": {},
   "outputs": [
    {
     "name": "stdout",
     "output_type": "stream",
     "text": [
      "<class 'pandas.core.frame.DataFrame'>\n",
      "RangeIndex: 891 entries, 0 to 890\n",
      "Data columns (total 12 columns):\n",
      "PassengerId    891 non-null int64\n",
      "Survived       891 non-null int64\n",
      "Pclass         891 non-null int64\n",
      "Name           891 non-null object\n",
      "Sex            891 non-null object\n",
      "Age            714 non-null float64\n",
      "SibSp          891 non-null int64\n",
      "Parch          891 non-null int64\n",
      "Ticket         891 non-null object\n",
      "Fare           891 non-null float64\n",
      "Cabin          204 non-null object\n",
      "Embarked       889 non-null object\n",
      "dtypes: float64(2), int64(5), object(5)\n",
      "memory usage: 83.7+ KB\n"
     ]
    }
   ],
   "source": [
    "train.info()"
   ]
  },
  {
   "cell_type": "code",
   "execution_count": 5,
   "metadata": {
    "scrolled": true
   },
   "outputs": [
    {
     "data": {
      "text/html": [
       "<div>\n",
       "<style scoped>\n",
       "    .dataframe tbody tr th:only-of-type {\n",
       "        vertical-align: middle;\n",
       "    }\n",
       "\n",
       "    .dataframe tbody tr th {\n",
       "        vertical-align: top;\n",
       "    }\n",
       "\n",
       "    .dataframe thead th {\n",
       "        text-align: right;\n",
       "    }\n",
       "</style>\n",
       "<table border=\"1\" class=\"dataframe\">\n",
       "  <thead>\n",
       "    <tr style=\"text-align: right;\">\n",
       "      <th></th>\n",
       "      <th>PassengerId</th>\n",
       "      <th>Pclass</th>\n",
       "      <th>Name</th>\n",
       "      <th>Sex</th>\n",
       "      <th>Age</th>\n",
       "      <th>SibSp</th>\n",
       "      <th>Parch</th>\n",
       "      <th>Ticket</th>\n",
       "      <th>Fare</th>\n",
       "      <th>Cabin</th>\n",
       "      <th>Embarked</th>\n",
       "    </tr>\n",
       "  </thead>\n",
       "  <tbody>\n",
       "    <tr>\n",
       "      <th>0</th>\n",
       "      <td>892</td>\n",
       "      <td>3</td>\n",
       "      <td>Kelly, Mr. James</td>\n",
       "      <td>male</td>\n",
       "      <td>34.5</td>\n",
       "      <td>0</td>\n",
       "      <td>0</td>\n",
       "      <td>330911</td>\n",
       "      <td>7.8292</td>\n",
       "      <td>NaN</td>\n",
       "      <td>Q</td>\n",
       "    </tr>\n",
       "    <tr>\n",
       "      <th>1</th>\n",
       "      <td>893</td>\n",
       "      <td>3</td>\n",
       "      <td>Wilkes, Mrs. James (Ellen Needs)</td>\n",
       "      <td>female</td>\n",
       "      <td>47.0</td>\n",
       "      <td>1</td>\n",
       "      <td>0</td>\n",
       "      <td>363272</td>\n",
       "      <td>7.0000</td>\n",
       "      <td>NaN</td>\n",
       "      <td>S</td>\n",
       "    </tr>\n",
       "    <tr>\n",
       "      <th>2</th>\n",
       "      <td>894</td>\n",
       "      <td>2</td>\n",
       "      <td>Myles, Mr. Thomas Francis</td>\n",
       "      <td>male</td>\n",
       "      <td>62.0</td>\n",
       "      <td>0</td>\n",
       "      <td>0</td>\n",
       "      <td>240276</td>\n",
       "      <td>9.6875</td>\n",
       "      <td>NaN</td>\n",
       "      <td>Q</td>\n",
       "    </tr>\n",
       "    <tr>\n",
       "      <th>3</th>\n",
       "      <td>895</td>\n",
       "      <td>3</td>\n",
       "      <td>Wirz, Mr. Albert</td>\n",
       "      <td>male</td>\n",
       "      <td>27.0</td>\n",
       "      <td>0</td>\n",
       "      <td>0</td>\n",
       "      <td>315154</td>\n",
       "      <td>8.6625</td>\n",
       "      <td>NaN</td>\n",
       "      <td>S</td>\n",
       "    </tr>\n",
       "    <tr>\n",
       "      <th>4</th>\n",
       "      <td>896</td>\n",
       "      <td>3</td>\n",
       "      <td>Hirvonen, Mrs. Alexander (Helga E Lindqvist)</td>\n",
       "      <td>female</td>\n",
       "      <td>22.0</td>\n",
       "      <td>1</td>\n",
       "      <td>1</td>\n",
       "      <td>3101298</td>\n",
       "      <td>12.2875</td>\n",
       "      <td>NaN</td>\n",
       "      <td>S</td>\n",
       "    </tr>\n",
       "  </tbody>\n",
       "</table>\n",
       "</div>"
      ],
      "text/plain": [
       "   PassengerId  Pclass                                          Name     Sex  \\\n",
       "0          892       3                              Kelly, Mr. James    male   \n",
       "1          893       3              Wilkes, Mrs. James (Ellen Needs)  female   \n",
       "2          894       2                     Myles, Mr. Thomas Francis    male   \n",
       "3          895       3                              Wirz, Mr. Albert    male   \n",
       "4          896       3  Hirvonen, Mrs. Alexander (Helga E Lindqvist)  female   \n",
       "\n",
       "    Age  SibSp  Parch   Ticket     Fare Cabin Embarked  \n",
       "0  34.5      0      0   330911   7.8292   NaN        Q  \n",
       "1  47.0      1      0   363272   7.0000   NaN        S  \n",
       "2  62.0      0      0   240276   9.6875   NaN        Q  \n",
       "3  27.0      0      0   315154   8.6625   NaN        S  \n",
       "4  22.0      1      1  3101298  12.2875   NaN        S  "
      ]
     },
     "execution_count": 5,
     "metadata": {},
     "output_type": "execute_result"
    }
   ],
   "source": [
    "test.head()"
   ]
  },
  {
   "cell_type": "code",
   "execution_count": 6,
   "metadata": {},
   "outputs": [
    {
     "name": "stdout",
     "output_type": "stream",
     "text": [
      "<class 'pandas.core.frame.DataFrame'>\n",
      "RangeIndex: 418 entries, 0 to 417\n",
      "Data columns (total 11 columns):\n",
      "PassengerId    418 non-null int64\n",
      "Pclass         418 non-null int64\n",
      "Name           418 non-null object\n",
      "Sex            418 non-null object\n",
      "Age            332 non-null float64\n",
      "SibSp          418 non-null int64\n",
      "Parch          418 non-null int64\n",
      "Ticket         418 non-null object\n",
      "Fare           417 non-null float64\n",
      "Cabin          91 non-null object\n",
      "Embarked       418 non-null object\n",
      "dtypes: float64(2), int64(4), object(5)\n",
      "memory usage: 36.0+ KB\n"
     ]
    }
   ],
   "source": [
    "test.info()"
   ]
  },
  {
   "cell_type": "code",
   "execution_count": 7,
   "metadata": {},
   "outputs": [
    {
     "data": {
      "text/html": [
       "<div>\n",
       "<style scoped>\n",
       "    .dataframe tbody tr th:only-of-type {\n",
       "        vertical-align: middle;\n",
       "    }\n",
       "\n",
       "    .dataframe tbody tr th {\n",
       "        vertical-align: top;\n",
       "    }\n",
       "\n",
       "    .dataframe thead th {\n",
       "        text-align: right;\n",
       "    }\n",
       "</style>\n",
       "<table border=\"1\" class=\"dataframe\">\n",
       "  <thead>\n",
       "    <tr style=\"text-align: right;\">\n",
       "      <th></th>\n",
       "      <th>PassengerId</th>\n",
       "      <th>Survived</th>\n",
       "    </tr>\n",
       "  </thead>\n",
       "  <tbody>\n",
       "    <tr>\n",
       "      <th>0</th>\n",
       "      <td>892</td>\n",
       "      <td>0</td>\n",
       "    </tr>\n",
       "    <tr>\n",
       "      <th>1</th>\n",
       "      <td>893</td>\n",
       "      <td>1</td>\n",
       "    </tr>\n",
       "    <tr>\n",
       "      <th>2</th>\n",
       "      <td>894</td>\n",
       "      <td>0</td>\n",
       "    </tr>\n",
       "    <tr>\n",
       "      <th>3</th>\n",
       "      <td>895</td>\n",
       "      <td>0</td>\n",
       "    </tr>\n",
       "    <tr>\n",
       "      <th>4</th>\n",
       "      <td>896</td>\n",
       "      <td>1</td>\n",
       "    </tr>\n",
       "  </tbody>\n",
       "</table>\n",
       "</div>"
      ],
      "text/plain": [
       "   PassengerId  Survived\n",
       "0          892         0\n",
       "1          893         1\n",
       "2          894         0\n",
       "3          895         0\n",
       "4          896         1"
      ]
     },
     "execution_count": 7,
     "metadata": {},
     "output_type": "execute_result"
    }
   ],
   "source": [
    "gender_submission.head()"
   ]
  },
  {
   "cell_type": "code",
   "execution_count": 8,
   "metadata": {},
   "outputs": [],
   "source": [
    "data = pd.concat([train, test], sort=False)"
   ]
  },
  {
   "cell_type": "code",
   "execution_count": 9,
   "metadata": {},
   "outputs": [
    {
     "data": {
      "text/plain": [
       "PassengerId       0\n",
       "Survived        418\n",
       "Pclass            0\n",
       "Name              0\n",
       "Sex               0\n",
       "Age             263\n",
       "SibSp             0\n",
       "Parch             0\n",
       "Ticket            0\n",
       "Fare              1\n",
       "Cabin          1014\n",
       "Embarked          2\n",
       "dtype: int64"
      ]
     },
     "execution_count": 9,
     "metadata": {},
     "output_type": "execute_result"
    }
   ],
   "source": [
    "data.isnull().sum()"
   ]
  },
  {
   "cell_type": "code",
   "execution_count": 10,
   "metadata": {},
   "outputs": [],
   "source": [
    "data[\"Sex\"].replace([\"male\", \"female\"], [0, 1], inplace=True)"
   ]
  },
  {
   "cell_type": "code",
   "execution_count": 11,
   "metadata": {},
   "outputs": [],
   "source": [
    "data[\"Embarked\"].replace([\"S\", \"C\", \"Q\"], [0, 1, 2], inplace=True)\n",
    "data[\"Embarked\"].fillna(data.Embarked.median(), inplace=True)"
   ]
  },
  {
   "cell_type": "code",
   "execution_count": 12,
   "metadata": {
    "scrolled": true
   },
   "outputs": [],
   "source": [
    "data[\"Fare\"].fillna(data.Fare.median(), inplace=True)"
   ]
  },
  {
   "cell_type": "code",
   "execution_count": 13,
   "metadata": {},
   "outputs": [],
   "source": [
    "data[\"Age\"].fillna(data.Age.median(), inplace=True)"
   ]
  },
  {
   "cell_type": "code",
   "execution_count": 14,
   "metadata": {},
   "outputs": [],
   "source": [
    "delete_columns = [\"Name\", \"PassengerId\",  \"Ticket\", \"Cabin\"]\n",
    "data.drop(delete_columns, axis=1, inplace=True)"
   ]
  },
  {
   "cell_type": "code",
   "execution_count": 16,
   "metadata": {},
   "outputs": [],
   "source": [
    "train = data[:len(train)]\n",
    "test = data[len(train):]"
   ]
  },
  {
   "cell_type": "code",
   "execution_count": 17,
   "metadata": {},
   "outputs": [],
   "source": [
    "Y_train = train[\"Survived\"]\n",
    "X_train = train.drop(\"Survived\", axis=1)\n",
    "X_test = test.drop(\"Survived\", axis=1)"
   ]
  },
  {
   "cell_type": "code",
   "execution_count": 18,
   "metadata": {},
   "outputs": [],
   "source": [
    "import lightgbm as lgb\n",
    "from sklearn.model_selection import train_test_split\n",
    "from sklearn.metrics import accuracy_score"
   ]
  },
  {
   "cell_type": "code",
   "execution_count": 19,
   "metadata": {},
   "outputs": [],
   "source": [
    "# hold out\n",
    "train_x, valid_x, train_y, valid_y = train_test_split(X_train, Y_train, test_size=0.3, random_state=0, stratify=Y_train)"
   ]
  },
  {
   "cell_type": "code",
   "execution_count": null,
   "metadata": {},
   "outputs": [],
   "source": [
    "from sklearn.model_selection import StratifiedKFold"
   ]
  },
  {
   "cell_type": "code",
   "execution_count": null,
   "metadata": {},
   "outputs": [],
   "source": [
    "y_preds = []\n",
    "models = []\n",
    "oof_train = np.zeros((len(X_train),))\n",
    "cv = StratifiedKFold(n_splits=5, shuffle=True, random_state=0)\n",
    "\n",
    "for fold_id, (train_index, valid_index) in enumerate(cv.split(X_train, y_train)):\n",
    "    X_tr = X_train.loc[train_index, :]\n",
    "    X_val = X_train.loc[valid_index, :]\n",
    "    y_tr = y_train[train_index]\n",
    "    y_val = y_train[valid_index]\n",
    "    \n",
    "    lgb_train = lgb.Dataset(X_tr, y_tr,\n",
    "                                             categorical_feature=categorical_features)\n",
    "    lgb_eval = lgb.Dataset(X_val, y_val, reference=lgb_train,\n",
    "                                            categorical_feature=categorical_features)\n",
    "\n",
    "    model = lgb.train(params, lgb_train,\n",
    "                                   valid_sets=[lgb_train, lgb_eval],\n",
    "                                   verbose_eval=10,\n",
    "                                   num_boost_round=1000,\n",
    "                                   early_stopping_rounds=10)\n",
    "\n",
    "    oof_train[valid_index] = model.predict(X_val, num_iteration=model.best_iteration)\n",
    "    y_pred = model.predict(X_test, num_iteration=model.best_iteration)\n",
    "\n",
    "    y_preds.append(y_pred)\n",
    "    models.append(model)"
   ]
  },
  {
   "cell_type": "code",
   "execution_count": 20,
   "metadata": {},
   "outputs": [],
   "source": [
    "categorical_features = [\"Sex\", \"Embarked\", \"Pclass\"]"
   ]
  },
  {
   "cell_type": "code",
   "execution_count": 1,
   "metadata": {},
   "outputs": [],
   "source": [
    "import optuna\n",
    "from sklearn.metrics import log_loss"
   ]
  },
  {
   "cell_type": "code",
   "execution_count": 22,
   "metadata": {},
   "outputs": [
    {
     "name": "stderr",
     "output_type": "stream",
     "text": [
      "/opt/conda/lib/python3.6/site-packages/lightgbm/basic.py:1243: UserWarning: Using categorical_feature in Dataset.\n",
      "  warnings.warn('Using categorical_feature in Dataset.')\n"
     ]
    },
    {
     "name": "stdout",
     "output_type": "stream",
     "text": [
      "Training until validation scores don't improve for 10 rounds\n",
      "[10]\ttraining's binary_logloss: 0.420947\tvalid_1's binary_logloss: 0.423931\n",
      "[20]\ttraining's binary_logloss: 0.34163\tvalid_1's binary_logloss: 0.347112\n",
      "[30]\ttraining's binary_logloss: 0.302305\tvalid_1's binary_logloss: 0.30602\n",
      "[40]\ttraining's binary_logloss: 0.269003\tvalid_1's binary_logloss: 0.271767\n",
      "[50]\ttraining's binary_logloss: 0.244623\tvalid_1's binary_logloss: 0.248899\n",
      "[60]\ttraining's binary_logloss: 0.223279\tvalid_1's binary_logloss: 0.228391\n",
      "[70]\ttraining's binary_logloss: 0.2058\tvalid_1's binary_logloss: 0.212053\n",
      "[80]\ttraining's binary_logloss: 0.190524\tvalid_1's binary_logloss: 0.195664\n",
      "[90]\ttraining's binary_logloss: 0.178168\tvalid_1's binary_logloss: 0.183591\n",
      "[100]\ttraining's binary_logloss: 0.167367\tvalid_1's binary_logloss: 0.173395\n",
      "[110]\ttraining's binary_logloss: 0.158229\tvalid_1's binary_logloss: 0.164861\n",
      "[120]\ttraining's binary_logloss: 0.150219\tvalid_1's binary_logloss: 0.156826\n",
      "[130]\ttraining's binary_logloss: 0.142349\tvalid_1's binary_logloss: 0.147056\n",
      "[140]\ttraining's binary_logloss: 0.135749\tvalid_1's binary_logloss: 0.140511\n",
      "[150]\ttraining's binary_logloss: 0.129323\tvalid_1's binary_logloss: 0.133915\n",
      "[160]\ttraining's binary_logloss: 0.123925\tvalid_1's binary_logloss: 0.128075\n",
      "[170]\ttraining's binary_logloss: 0.118705\tvalid_1's binary_logloss: 0.122023\n",
      "[180]\ttraining's binary_logloss: 0.113758\tvalid_1's binary_logloss: 0.11738\n",
      "[190]\ttraining's binary_logloss: 0.109153\tvalid_1's binary_logloss: 0.113245\n",
      "[200]\ttraining's binary_logloss: 0.105032\tvalid_1's binary_logloss: 0.10891\n",
      "[210]\ttraining's binary_logloss: 0.10121\tvalid_1's binary_logloss: 0.105001\n",
      "[220]\ttraining's binary_logloss: 0.0974883\tvalid_1's binary_logloss: 0.101349\n",
      "[230]\ttraining's binary_logloss: 0.0944913\tvalid_1's binary_logloss: 0.0988874\n",
      "[240]\ttraining's binary_logloss: 0.0915491\tvalid_1's binary_logloss: 0.0950591\n",
      "[250]\ttraining's binary_logloss: 0.0888984\tvalid_1's binary_logloss: 0.0928247\n",
      "[260]\ttraining's binary_logloss: 0.0863816\tvalid_1's binary_logloss: 0.0902713\n",
      "[270]\ttraining's binary_logloss: 0.0841178\tvalid_1's binary_logloss: 0.0877337\n",
      "[280]\ttraining's binary_logloss: 0.0817302\tvalid_1's binary_logloss: 0.0856176\n",
      "[290]\ttraining's binary_logloss: 0.0797844\tvalid_1's binary_logloss: 0.0832362\n",
      "[300]\ttraining's binary_logloss: 0.0777782\tvalid_1's binary_logloss: 0.0808122\n",
      "[310]\ttraining's binary_logloss: 0.0760831\tvalid_1's binary_logloss: 0.079256\n",
      "[320]\ttraining's binary_logloss: 0.0745718\tvalid_1's binary_logloss: 0.077953\n",
      "[330]\ttraining's binary_logloss: 0.072966\tvalid_1's binary_logloss: 0.076488\n",
      "[340]\ttraining's binary_logloss: 0.071536\tvalid_1's binary_logloss: 0.0749633\n",
      "[350]\ttraining's binary_logloss: 0.0702013\tvalid_1's binary_logloss: 0.0735478\n",
      "[360]\ttraining's binary_logloss: 0.0689696\tvalid_1's binary_logloss: 0.0721872\n",
      "[370]\ttraining's binary_logloss: 0.0676124\tvalid_1's binary_logloss: 0.0709926\n",
      "[380]\ttraining's binary_logloss: 0.0665209\tvalid_1's binary_logloss: 0.0699981\n",
      "[390]\ttraining's binary_logloss: 0.0653335\tvalid_1's binary_logloss: 0.0684417\n",
      "[400]\ttraining's binary_logloss: 0.06434\tvalid_1's binary_logloss: 0.0672719\n",
      "[410]\ttraining's binary_logloss: 0.063385\tvalid_1's binary_logloss: 0.0660665\n",
      "[420]\ttraining's binary_logloss: 0.0624835\tvalid_1's binary_logloss: 0.0653982\n",
      "[430]\ttraining's binary_logloss: 0.0615944\tvalid_1's binary_logloss: 0.0645848\n",
      "[440]\ttraining's binary_logloss: 0.0607572\tvalid_1's binary_logloss: 0.0637206\n",
      "[450]\ttraining's binary_logloss: 0.0598651\tvalid_1's binary_logloss: 0.0628297\n",
      "[460]\ttraining's binary_logloss: 0.0590698\tvalid_1's binary_logloss: 0.062113\n",
      "[470]\ttraining's binary_logloss: 0.0583375\tvalid_1's binary_logloss: 0.0612705\n",
      "[480]\ttraining's binary_logloss: 0.0576126\tvalid_1's binary_logloss: 0.060588\n",
      "[490]\ttraining's binary_logloss: 0.0569322\tvalid_1's binary_logloss: 0.0598992\n",
      "[500]\ttraining's binary_logloss: 0.0563307\tvalid_1's binary_logloss: 0.0592398\n",
      "[510]\ttraining's binary_logloss: 0.0557085\tvalid_1's binary_logloss: 0.0583518\n",
      "[520]\ttraining's binary_logloss: 0.0551247\tvalid_1's binary_logloss: 0.057967\n",
      "[530]\ttraining's binary_logloss: 0.0546487\tvalid_1's binary_logloss: 0.0572823\n",
      "[540]\ttraining's binary_logloss: 0.0540947\tvalid_1's binary_logloss: 0.0567823\n",
      "[550]\ttraining's binary_logloss: 0.053653\tvalid_1's binary_logloss: 0.0564071\n",
      "[560]\ttraining's binary_logloss: 0.0531811\tvalid_1's binary_logloss: 0.0558906\n",
      "[570]\ttraining's binary_logloss: 0.0527296\tvalid_1's binary_logloss: 0.0554226\n",
      "[580]\ttraining's binary_logloss: 0.0523015\tvalid_1's binary_logloss: 0.0550517\n",
      "[590]\ttraining's binary_logloss: 0.0518901\tvalid_1's binary_logloss: 0.0544408\n",
      "[600]\ttraining's binary_logloss: 0.0515584\tvalid_1's binary_logloss: 0.0543047\n",
      "[610]\ttraining's binary_logloss: 0.0512185\tvalid_1's binary_logloss: 0.0538863\n",
      "[620]\ttraining's binary_logloss: 0.0508625\tvalid_1's binary_logloss: 0.0534842\n",
      "[630]\ttraining's binary_logloss: 0.0505785\tvalid_1's binary_logloss: 0.0530567\n",
      "[640]\ttraining's binary_logloss: 0.0502765\tvalid_1's binary_logloss: 0.0526312\n",
      "[650]\ttraining's binary_logloss: 0.0499719\tvalid_1's binary_logloss: 0.0524692\n",
      "[660]\ttraining's binary_logloss: 0.0496245\tvalid_1's binary_logloss: 0.051932\n",
      "[670]\ttraining's binary_logloss: 0.0493539\tvalid_1's binary_logloss: 0.0517719\n",
      "[680]\ttraining's binary_logloss: 0.0491202\tvalid_1's binary_logloss: 0.0515822\n",
      "[690]\ttraining's binary_logloss: 0.0488656\tvalid_1's binary_logloss: 0.0512314\n",
      "[700]\ttraining's binary_logloss: 0.0486611\tvalid_1's binary_logloss: 0.0510791\n",
      "[710]\ttraining's binary_logloss: 0.048436\tvalid_1's binary_logloss: 0.0508352\n",
      "[720]\ttraining's binary_logloss: 0.0482249\tvalid_1's binary_logloss: 0.0506244\n",
      "[730]\ttraining's binary_logloss: 0.0480499\tvalid_1's binary_logloss: 0.0504504\n",
      "[740]\ttraining's binary_logloss: 0.0478417\tvalid_1's binary_logloss: 0.0502768\n",
      "[750]\ttraining's binary_logloss: 0.0476351\tvalid_1's binary_logloss: 0.0500151\n",
      "[760]\ttraining's binary_logloss: 0.047473\tvalid_1's binary_logloss: 0.0498226\n",
      "[770]\ttraining's binary_logloss: 0.0472902\tvalid_1's binary_logloss: 0.0496507\n",
      "[780]\ttraining's binary_logloss: 0.0471054\tvalid_1's binary_logloss: 0.0494075\n",
      "[790]\ttraining's binary_logloss: 0.046928\tvalid_1's binary_logloss: 0.049282\n",
      "[800]\ttraining's binary_logloss: 0.0467691\tvalid_1's binary_logloss: 0.0489608\n",
      "[810]\ttraining's binary_logloss: 0.0466276\tvalid_1's binary_logloss: 0.0488206\n",
      "[820]\ttraining's binary_logloss: 0.0464737\tvalid_1's binary_logloss: 0.0486999\n",
      "[830]\ttraining's binary_logloss: 0.0463117\tvalid_1's binary_logloss: 0.0484772\n",
      "[840]\ttraining's binary_logloss: 0.0461722\tvalid_1's binary_logloss: 0.0483689\n",
      "[850]\ttraining's binary_logloss: 0.0460533\tvalid_1's binary_logloss: 0.0482621\n",
      "[860]\ttraining's binary_logloss: 0.0459486\tvalid_1's binary_logloss: 0.048104\n",
      "[870]\ttraining's binary_logloss: 0.0458207\tvalid_1's binary_logloss: 0.0478399\n",
      "[880]\ttraining's binary_logloss: 0.0457125\tvalid_1's binary_logloss: 0.0477256\n",
      "[890]\ttraining's binary_logloss: 0.045602\tvalid_1's binary_logloss: 0.0476342\n",
      "[900]\ttraining's binary_logloss: 0.0454932\tvalid_1's binary_logloss: 0.0475385\n",
      "[910]\ttraining's binary_logloss: 0.0453944\tvalid_1's binary_logloss: 0.0474317\n",
      "[920]\ttraining's binary_logloss: 0.0453009\tvalid_1's binary_logloss: 0.0472853\n",
      "[930]\ttraining's binary_logloss: 0.0452145\tvalid_1's binary_logloss: 0.0471519\n",
      "[940]\ttraining's binary_logloss: 0.0451199\tvalid_1's binary_logloss: 0.0470404\n",
      "[950]\ttraining's binary_logloss: 0.0450536\tvalid_1's binary_logloss: 0.04706\n",
      "Early stopping, best iteration is:\n",
      "[942]\ttraining's binary_logloss: 0.0451112\tvalid_1's binary_logloss: 0.0470401\n"
     ]
    }
   ],
   "source": [
    "def objectives(trial):\n",
    "    params = {\n",
    "        \"objective\": \"binary\",\n",
    "        \"max_bin\": trial.suggest_int(\"maxi_bin\", 255, 500)\n",
    "        \"learning_rate\": 0.05,\n",
    "        \"num_leaves\": trial.suggest_int(\"num_leaves\", 32, 128)\n",
    "    }\n",
    "    \n",
    "    lgb_train = lgb.Dataset(X_train, Y_train, categorical_feature=categorical_features)\n",
    "    lgb_eval = lgb.Dataset(valid_x, valid_y, reference=lgb_train, categorical_feature=categorical_features)\n",
    "\n",
    "    model = lgb.train(params, lgb_train, valid_sets=[lgb_train, lgb_eval], verbose_eval=10, num_boost_round=1000, early_stopping_rounds=10)\n",
    "    \n",
    "    y_pred_valid = model.predict(valid_x, num_iteration=model.best_iteration)\n",
    "    \n",
    "    score = log_loss(y_valid, y_pred_valid)\n",
    "    return score"
   ]
  },
  {
   "cell_type": "code",
   "execution_count": null,
   "metadata": {},
   "outputs": [],
   "source": [
    "study = optuna.create_study(sampler=optuna.samplers.RandomSampler(seed=0))\n",
    "study.optimize(objective, n_trials=40)\n",
    "study.best_params"
   ]
  },
  {
   "cell_type": "code",
   "execution_count": 23,
   "metadata": {},
   "outputs": [],
   "source": []
  },
  {
   "cell_type": "code",
   "execution_count": 24,
   "metadata": {},
   "outputs": [
    {
     "data": {
      "text/plain": [
       "array([6.69426370e-04, 1.48420973e-07, 5.69997434e-02, 9.90847417e-01,\n",
       "       1.56199478e-01, 1.93794524e-02, 2.52204273e-06, 4.73570681e-07,\n",
       "       9.99733407e-01, 2.58667772e-07, 5.68896210e-08, 4.40208309e-04,\n",
       "       9.99999293e-01, 5.01334373e-04, 9.88666972e-01, 9.99999984e-01,\n",
       "       1.40742954e-04, 9.87708588e-01, 8.83732812e-01, 8.96561146e-04,\n",
       "       1.17403605e-01, 1.18028621e-02, 9.99999975e-01, 9.81644176e-01,\n",
       "       9.99807206e-01, 2.25647832e-06, 1.00000000e+00, 9.81787977e-01,\n",
       "       9.95733997e-01, 1.88140935e-03, 3.79709742e-04, 1.98327839e-04,\n",
       "       9.34150831e-01, 1.97330227e-04, 9.83623407e-01, 5.70784513e-01,\n",
       "       3.47226710e-04, 3.33387757e-05, 4.61775937e-06, 5.01088137e-01,\n",
       "       5.14448373e-05, 6.66721471e-01, 5.01750771e-01, 9.98938420e-01,\n",
       "       9.99991157e-01, 6.92141489e-05, 6.59738369e-01, 1.04226036e-01,\n",
       "       9.99968958e-01, 9.98938535e-01, 9.67106823e-01, 8.55502779e-04,\n",
       "       9.99646669e-01, 9.01649874e-01, 2.09651924e-01, 1.49328466e-11,\n",
       "       2.07529737e-05, 6.75693617e-07, 1.21238247e-04, 1.00000000e+00,\n",
       "       1.53898125e-05, 6.17740553e-01, 3.67586244e-04, 9.99967390e-01,\n",
       "       9.47661849e-01, 9.99915879e-01, 9.98327399e-01, 5.66308048e-05,\n",
       "       4.03252284e-02, 9.97122164e-01, 8.12164472e-01, 5.49879649e-06,\n",
       "       2.75080039e-01, 1.87894574e-05, 1.00000000e+00, 9.98563579e-01,\n",
       "       5.16154720e-04, 9.96866356e-01, 5.28239164e-03, 8.12164472e-01,\n",
       "       9.99998966e-01, 9.40893412e-02, 1.99690243e-01, 5.68896210e-08,\n",
       "       3.88681767e-02, 2.36376949e-04, 9.99949289e-01, 9.97298646e-01,\n",
       "       8.79105801e-01, 9.99999899e-01, 1.42987972e-02, 4.61072584e-01,\n",
       "       8.74098862e-01, 5.16154720e-04, 3.73208336e-01, 1.01100249e-02,\n",
       "       9.99998869e-01, 3.11424902e-01, 4.62617499e-02, 4.00937921e-03,\n",
       "       9.99999964e-01, 1.23513072e-04, 1.04226036e-01, 1.13777986e-02,\n",
       "       9.60341184e-01, 4.60361404e-05, 1.69891794e-02, 1.04226036e-01,\n",
       "       2.90007351e-03, 5.89929190e-05, 1.80506711e-03, 8.87933056e-01,\n",
       "       9.99999998e-01, 9.98604350e-01, 9.99998255e-01, 6.19715490e-05,\n",
       "       3.26524682e-03, 9.98232956e-01, 9.98534934e-01, 9.98961115e-01,\n",
       "       9.89555915e-01, 9.26959046e-03, 1.00000000e+00, 3.15699505e-07,\n",
       "       1.04226036e-01, 9.87194532e-01, 7.00860020e-04, 9.99999978e-01,\n",
       "       4.99834854e-01, 3.57282905e-09, 9.21505617e-01, 1.21262222e-04,\n",
       "       4.27529371e-05, 3.01266461e-03, 4.97288127e-03, 4.04658663e-08,\n",
       "       9.49882836e-02, 8.74205422e-05, 2.01437678e-04, 2.32354433e-06,\n",
       "       2.08268898e-07, 1.00000000e+00, 9.57024854e-03, 2.56470165e-04,\n",
       "       9.94101536e-01, 1.82709174e-05, 1.44189969e-03, 4.53480269e-09,\n",
       "       6.66721471e-01, 8.70352100e-07, 1.00000000e+00, 2.57168572e-04,\n",
       "       2.14737192e-05, 8.31563348e-02, 3.16648938e-04, 6.57749394e-07,\n",
       "       9.99999624e-01, 2.45136299e-01, 9.94101536e-01, 3.51385512e-01,\n",
       "       9.77576070e-01, 9.99996692e-01, 9.87023522e-01, 1.01661961e-02,\n",
       "       1.82587718e-01, 1.01134655e-03, 9.94504098e-01, 9.37236892e-07,\n",
       "       9.99999833e-01, 5.46440409e-04, 1.43177054e-07, 4.57947350e-01,\n",
       "       3.53286767e-09, 1.65664279e-01, 2.52260052e-04, 9.99984426e-01,\n",
       "       9.99982987e-01, 2.45305681e-01, 9.99990725e-01, 9.99999410e-01,\n",
       "       5.28239164e-03, 7.24035806e-01, 9.97564503e-01, 1.04226036e-01,\n",
       "       9.99927757e-01, 9.32102344e-05, 9.99973515e-01, 8.74111281e-01,\n",
       "       7.67855160e-05, 1.32666566e-01, 2.56773125e-03, 2.33351277e-03,\n",
       "       2.24389049e-01, 6.77834129e-03, 9.99997968e-01, 2.29159848e-02,\n",
       "       9.99996090e-01, 1.29192539e-02, 5.78461353e-07, 1.69146282e-01,\n",
       "       9.99889079e-01, 9.99997848e-01, 2.16586900e-01, 9.42458901e-01,\n",
       "       9.15454517e-05, 6.44113320e-03, 1.53494658e-04, 3.42395316e-07,\n",
       "       9.99999995e-01, 4.03297825e-08, 7.20235877e-01, 4.65784743e-07,\n",
       "       7.71648122e-05, 8.36099311e-01, 2.11788693e-05, 1.93298580e-03,\n",
       "       9.98933301e-01, 4.75149237e-05, 9.99985606e-01, 5.16154720e-04,\n",
       "       9.98455500e-01, 1.43107531e-03, 9.90394627e-01, 9.69021375e-01,\n",
       "       9.01131263e-01, 6.63286022e-03, 1.06100235e-04, 8.79105801e-01,\n",
       "       1.25211483e-03, 5.19257011e-03, 4.19477932e-01, 9.99999882e-01,\n",
       "       2.01663158e-01, 2.75161923e-03, 3.52968450e-01, 1.44090965e-03,\n",
       "       6.30183240e-01, 9.94271856e-01, 9.98685986e-01, 9.99992016e-01,\n",
       "       8.33647667e-01, 9.05747606e-01, 1.54444749e-02, 5.68896210e-08,\n",
       "       4.06859106e-06, 1.05137571e-02, 9.99234076e-01, 3.73421557e-04,\n",
       "       9.98961115e-01, 2.24994551e-03, 9.99627933e-01, 5.93635903e-03,\n",
       "       2.65214721e-03, 4.11148460e-10, 6.44181649e-03, 1.43177054e-07,\n",
       "       1.04226036e-01, 5.16154720e-04, 9.97164015e-01, 1.76972191e-02,\n",
       "       6.27250583e-09, 2.83637363e-03, 9.99562452e-01, 9.99524817e-01,\n",
       "       2.14373088e-01, 5.68896210e-08, 3.05166636e-03, 1.43177054e-07,\n",
       "       3.47226710e-04, 3.74228449e-04, 1.16677787e-01, 1.04226036e-01,\n",
       "       9.99989987e-01, 9.99007449e-01, 5.14493687e-03, 9.98853452e-01,\n",
       "       3.39318997e-03, 4.56932076e-04, 2.32624695e-07, 1.13921685e-06,\n",
       "       2.78744648e-05, 9.99999955e-01, 8.79105801e-01, 1.03139306e-03,\n",
       "       9.65970034e-01, 1.61312195e-12, 3.15699505e-07, 7.73670378e-05,\n",
       "       1.65664279e-01, 5.16154720e-04, 6.81945928e-04, 6.33630355e-07,\n",
       "       1.65664279e-01, 1.76758317e-03, 3.03061207e-04, 1.84999969e-06,\n",
       "       9.99783540e-01, 1.88140935e-03, 8.57114047e-07, 2.47357748e-01,\n",
       "       2.82167420e-03, 4.70728756e-03, 2.43369071e-08, 4.78814920e-10,\n",
       "       8.79105801e-01, 9.99800986e-01, 3.23205797e-04, 9.98146023e-01,\n",
       "       1.13970848e-02, 2.89247140e-03, 3.87551494e-03, 9.81787977e-01,\n",
       "       1.43177054e-07, 2.80265240e-05, 9.99974330e-01, 9.99934697e-01,\n",
       "       3.32867013e-03, 4.96449623e-01, 6.99735755e-01, 3.13024650e-05,\n",
       "       1.13777986e-02, 2.47761060e-03, 8.74205422e-05, 9.99765137e-01,\n",
       "       9.99999996e-01, 1.44623943e-03, 9.90833129e-01, 1.32951776e-03,\n",
       "       2.87910166e-04, 3.83942756e-06, 9.77718904e-01, 3.80674885e-01,\n",
       "       5.14493687e-03, 9.99865735e-01, 8.30937551e-04, 5.16054557e-04,\n",
       "       9.77152813e-01, 7.44973455e-08, 1.38900138e-02, 1.65664279e-01,\n",
       "       2.49326588e-01, 5.04601951e-11, 1.30250939e-05, 9.99702319e-01,\n",
       "       2.62135743e-04, 9.99207231e-01, 8.74205422e-05, 6.72625797e-06,\n",
       "       5.12070166e-10, 9.99996736e-01, 9.99931081e-01, 9.15454517e-05,\n",
       "       5.32384033e-06, 9.39619663e-05, 8.88090455e-01, 1.48661778e-02,\n",
       "       9.99934303e-01, 2.27332505e-06, 1.04226036e-01, 6.41152259e-02,\n",
       "       2.17263897e-06, 1.00000000e+00, 9.99996736e-01, 9.90847417e-01,\n",
       "       1.00000000e+00, 1.73641099e-05, 1.48144614e-04, 6.46262191e-01,\n",
       "       9.99996341e-01, 9.57805423e-01, 1.47465987e-03, 1.00000000e+00,\n",
       "       2.33752950e-06, 7.97878063e-03, 9.99999730e-01, 9.99998404e-01,\n",
       "       1.14624505e-03, 5.57868817e-05, 1.14455266e-04, 9.98818663e-01,\n",
       "       1.04226036e-01, 4.21503205e-03, 3.79044079e-01, 3.11598968e-01,\n",
       "       9.70434586e-02, 9.99999135e-01, 8.15123040e-06, 1.01130053e-05,\n",
       "       2.55485084e-03, 9.87278805e-06, 1.17214683e-01, 9.99979858e-01,\n",
       "       9.94074140e-01, 3.12565655e-03, 3.42040142e-07, 9.99954997e-01,\n",
       "       3.81620242e-08, 9.99999999e-01, 3.17601359e-04, 2.49001717e-08,\n",
       "       9.99999986e-01, 2.95842473e-09, 1.00000000e+00, 1.56139030e-06,\n",
       "       5.07874833e-06, 6.30834837e-02, 2.73733266e-05, 1.37456937e-02,\n",
       "       9.77576070e-01, 9.99753462e-01, 8.79105801e-01, 1.00000000e+00,\n",
       "       2.33948852e-01, 5.16154720e-04, 9.99999957e-01, 5.11772545e-13,\n",
       "       5.16154720e-04, 9.25278008e-01])"
      ]
     },
     "execution_count": 24,
     "metadata": {},
     "output_type": "execute_result"
    }
   ],
   "source": [
    "y_pred"
   ]
  },
  {
   "cell_type": "code",
   "execution_count": 25,
   "metadata": {},
   "outputs": [
    {
     "data": {
      "text/plain": [
       "array([0, 0, 0, 1, 0, 0, 0, 0, 1, 0, 0, 0, 1, 0, 1, 1, 0, 1, 1, 0, 0, 0,\n",
       "       1, 1, 1, 0, 1, 1, 1, 0, 0, 0, 1, 0, 1, 1, 0, 0, 0, 1, 0, 1, 1, 1,\n",
       "       1, 0, 1, 0, 1, 1, 1, 0, 1, 1, 0, 0, 0, 0, 0, 1, 0, 1, 0, 1, 1, 1,\n",
       "       1, 0, 0, 1, 1, 0, 0, 0, 1, 1, 0, 1, 0, 1, 1, 0, 0, 0, 0, 0, 1, 1,\n",
       "       1, 1, 0, 0, 1, 0, 0, 0, 1, 0, 0, 0, 1, 0, 0, 0, 1, 0, 0, 0, 0, 0,\n",
       "       0, 1, 1, 1, 1, 0, 0, 1, 1, 1, 1, 0, 1, 0, 0, 1, 0, 1, 0, 0, 1, 0,\n",
       "       0, 0, 0, 0, 0, 0, 0, 0, 0, 1, 0, 0, 1, 0, 0, 0, 1, 0, 1, 0, 0, 0,\n",
       "       0, 0, 1, 0, 1, 0, 1, 1, 1, 0, 0, 0, 1, 0, 1, 0, 0, 0, 0, 0, 0, 1,\n",
       "       1, 0, 1, 1, 0, 1, 1, 0, 1, 0, 1, 1, 0, 0, 0, 0, 0, 0, 1, 0, 1, 0,\n",
       "       0, 0, 1, 1, 0, 1, 0, 0, 0, 0, 1, 0, 1, 0, 0, 1, 0, 0, 1, 0, 1, 0,\n",
       "       1, 0, 1, 1, 1, 0, 0, 1, 0, 0, 0, 1, 0, 0, 0, 0, 1, 1, 1, 1, 1, 1,\n",
       "       0, 0, 0, 0, 1, 0, 1, 0, 1, 0, 0, 0, 0, 0, 0, 0, 1, 0, 0, 0, 1, 1,\n",
       "       0, 0, 0, 0, 0, 0, 0, 0, 1, 1, 0, 1, 0, 0, 0, 0, 0, 1, 1, 0, 1, 0,\n",
       "       0, 0, 0, 0, 0, 0, 0, 0, 0, 0, 1, 0, 0, 0, 0, 0, 0, 0, 1, 1, 0, 1,\n",
       "       0, 0, 0, 1, 0, 0, 1, 1, 0, 0, 1, 0, 0, 0, 0, 1, 1, 0, 1, 0, 0, 0,\n",
       "       1, 0, 0, 1, 0, 0, 1, 0, 0, 0, 0, 0, 0, 1, 0, 1, 0, 0, 0, 1, 1, 0,\n",
       "       0, 0, 1, 0, 1, 0, 0, 0, 0, 1, 1, 1, 1, 0, 0, 1, 1, 1, 0, 1, 0, 0,\n",
       "       1, 1, 0, 0, 0, 1, 0, 0, 0, 0, 0, 1, 0, 0, 0, 0, 0, 1, 1, 0, 0, 1,\n",
       "       0, 1, 0, 0, 1, 0, 1, 0, 0, 0, 0, 0, 1, 1, 1, 1, 0, 0, 1, 0, 0, 1])"
      ]
     },
     "execution_count": 25,
     "metadata": {},
     "output_type": "execute_result"
    }
   ],
   "source": [
    "pred = (y_pred > 0.5).astype(int)\n",
    "pred"
   ]
  },
  {
   "cell_type": "code",
   "execution_count": 26,
   "metadata": {},
   "outputs": [],
   "source": [
    "sub = pd.read_csv(\"../input/titanic/gender_submission.csv\")\n",
    "sub['Survived'] = pred\n",
    "sub.to_csv('../output/submission.csv', index = False)"
   ]
  },
  {
   "cell_type": "code",
   "execution_count": null,
   "metadata": {},
   "outputs": [],
   "source": []
  }
 ],
 "metadata": {
  "kernelspec": {
   "display_name": "Python 3",
   "language": "python",
   "name": "python3"
  },
  "language_info": {
   "codemirror_mode": {
    "name": "ipython",
    "version": 3
   },
   "file_extension": ".py",
   "mimetype": "text/x-python",
   "name": "python",
   "nbconvert_exporter": "python",
   "pygments_lexer": "ipython3",
   "version": "3.6.6"
  }
 },
 "nbformat": 4,
 "nbformat_minor": 2
}
